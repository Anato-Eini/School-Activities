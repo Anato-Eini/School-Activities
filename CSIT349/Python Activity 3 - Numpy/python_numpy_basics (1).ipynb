{
 "cells": [
  {
   "cell_type": "markdown",
   "id": "edb69a30",
   "metadata": {},
   "source": [
    "# PYTHON NUMPY\n",
    "\n",
    "In our last class meeting, we learned that NumPy is a python library generally used for working with arrays. It includes a wide range of mathematical functions, such as linear algebra, Fourier transforms, and random number generation\n",
    "\n",
    "\n",
    "**Why do we need to learn NumPy?**\n",
    "- NumPy’s are used for machine learning, data science, image and signal processing, scientific computing, and quantum computing.\n",
    "\n",
    "\n",
    "**Advantages of using NumPy Arrays:**\n",
    "- NumPy arrays consume less memory to store data, thus, it has a faster execution compared to Python Lists.\n",
    "\n",
    "- NumPy arrays are optimized for complex mathematical and statistical operations. Up to 50x faster than iterating over Python lists using loops.\n",
    "\n",
    "- It can also be used with various libraries like Pandas, Scipy, sckit-learn, etc.\n",
    "\n",
    "\n",
    "To learn more about Numpy’s, let’s start first with its basic implementations."
   ]
  },
  {
   "cell_type": "markdown",
   "id": "4fdaa11f",
   "metadata": {},
   "source": [
    "### IMPORTING NUMPY\n",
    "\n",
    "Reminder: Make sure that you have installed numpy before calling the library"
   ]
  },
  {
   "cell_type": "code",
   "execution_count": null,
   "id": "a210b003",
   "metadata": {},
   "outputs": [],
   "source": [
    "import numpy as np\n",
    "# the numpy library is denoted as np so that it will readable\n",
    "# and easier to call the functions inside the library"
   ]
  },
  {
   "cell_type": "markdown",
   "id": "17660602",
   "metadata": {},
   "source": [
    "### NUMPY ARRAY CREATION\n",
    "\n",
    "There are various ways on how to create an array:"
   ]
  },
  {
   "cell_type": "markdown",
   "id": "ddc0f4f3",
   "metadata": {},
   "source": [
    "#### Using a Python List:"
   ]
  },
  {
   "cell_type": "code",
   "execution_count": null,
   "id": "fb22b173",
   "metadata": {},
   "outputs": [],
   "source": [
    "# complete the code and output the array\n",
    "np.array([2, 4, 6, 8])"
   ]
  },
  {
   "cell_type": "markdown",
   "id": "a5083e6b",
   "metadata": {},
   "source": [
    "#### Using np.zeros()\n",
    "\n",
    "The number passed as an argument to np.zeros() determines the size of the resulting array filled with zeros."
   ]
  },
  {
   "cell_type": "code",
   "execution_count": null,
   "id": "9e5a7517",
   "metadata": {},
   "outputs": [],
   "source": [
    "# complete the code and output the array\n",
    "np.zeros(4)"
   ]
  },
  {
   "cell_type": "markdown",
   "id": "6ca5eb15",
   "metadata": {},
   "source": [
    "#### Using np.arange()\n",
    "\n",
    "Returns an array with values within a specified interval."
   ]
  },
  {
   "cell_type": "code",
   "execution_count": null,
   "id": "56989a7a",
   "metadata": {},
   "outputs": [],
   "source": [
    "# complete the code and output the array\n",
    "\n",
    "#create an array with values from 0 to 4\n",
    "np.arange(5) \n",
    "\n",
    "#create an array with values from 1 to 8 with a step of 2\n",
    "np.arange(1, 9, 2) "
   ]
  },
  {
   "cell_type": "markdown",
   "id": "63909a2c",
   "metadata": {},
   "source": [
    "#### Using np.random.rand()\n",
    "\n",
    "Used to create an array of random numbers"
   ]
  },
  {
   "cell_type": "code",
   "execution_count": null,
   "id": "3bbf0f46",
   "metadata": {},
   "outputs": [],
   "source": [
    "# complete the code and output the array\n",
    "np.random.rand(5)"
   ]
  },
  {
   "cell_type": "markdown",
   "id": "5a7a56b9",
   "metadata": {},
   "source": [
    "#### Using np.empty()\n",
    "\n",
    "Used to create an empty array."
   ]
  },
  {
   "cell_type": "code",
   "execution_count": null,
   "id": "6ad9bc68",
   "metadata": {},
   "outputs": [],
   "source": [
    "# complete the code and output the array\n",
    "np.empty(4)\n",
    "\n",
    "# The elements inside the array are not completely empty but rather it contains non-existing numbers"
   ]
  },
  {
   "cell_type": "markdown",
   "id": "3f9f5704",
   "metadata": {},
   "source": [
    "### NUMPY DATA TYPES\n",
    "\n",
    "To check the data type of an array call the **```dtype```** attribute, returns the data type of the elements inside the array."
   ]
  },
  {
   "cell_type": "code",
   "execution_count": null,
   "id": "ba7361b2",
   "metadata": {},
   "outputs": [],
   "source": [
    "# create an array of integers\n",
    "np.array([-3, -1, 0, 1]) \n",
    "\n",
    "# print the data type of the array"
   ]
  },
  {
   "cell_type": "markdown",
   "id": "183cb207",
   "metadata": {},
   "source": [
    "For signed integers, by default, **int64** is the data type you can change its data type by indicating what type to use in creating an array."
   ]
  },
  {
   "cell_type": "code",
   "execution_count": null,
   "id": "a963a0f4",
   "metadata": {},
   "outputs": [],
   "source": [
    "np.array([1,3,7], dtype = ‘int32’)\n",
    "\n",
    "# print the array and its data type"
   ]
  },
  {
   "cell_type": "markdown",
   "id": "76e1986f",
   "metadata": {},
   "source": [
    "Type conversion can also be performed in NumPy."
   ]
  },
  {
   "cell_type": "code",
   "execution_count": null,
   "id": "5867f1c5",
   "metadata": {},
   "outputs": [],
   "source": [
    "np.array([1, 3, 5, 7, 9])\n",
    "# use this syntax to perform type conversion arr.astype('float')\n",
    "\n",
    "# print the converted array and its new data type"
   ]
  },
  {
   "cell_type": "markdown",
   "id": "f6fbc2f3",
   "metadata": {},
   "source": [
    "#### Other NumPy Attributes\n",
    "\n",
    "- **```ndim```** – returns number of dimension of the array\n",
    "- **```size```** – returns numbers of elements in the array\n",
    "- **```shape```** – returns the size of the array in each dimension\n",
    "- **```itemsize```** – returns the size (in bytes) of each elements in the array\n",
    "- **```data```** – returns the buffer (reference or pointers) containing actual elements of the array in memory \n"
   ]
  },
  {
   "cell_type": "code",
   "execution_count": null,
   "id": "74504775",
   "metadata": {},
   "outputs": [],
   "source": [
    "np.arange(9)\n",
    "\n",
    "# print the dimension of the array\n",
    "# print the array shape\n",
    "# print the array size"
   ]
  },
  {
   "cell_type": "markdown",
   "id": "c4449587",
   "metadata": {},
   "source": [
    "### NUMPY ARRAY INDEXING\n",
    "\n",
    "Similar to lists, array elements can be accessed using their index."
   ]
  },
  {
   "cell_type": "code",
   "execution_count": null,
   "id": "dcae40f5",
   "metadata": {},
   "outputs": [],
   "source": [
    "np.array([1, 3, 5, 7, 9, 11])\n",
    "# access the first element\n",
    "# access the third element\n",
    "# access the fifth element"
   ]
  },
  {
   "cell_type": "markdown",
   "id": "0f51c1de",
   "metadata": {},
   "source": [
    "You can also access array elements using negative indexing."
   ]
  },
  {
   "cell_type": "code",
   "execution_count": null,
   "id": "de29407d",
   "metadata": {},
   "outputs": [],
   "source": [
    "np.array([1, 3, 5, 7, 9, 11])\n",
    "# access the last element\n",
    "# access the second-to-the-last element\n",
    "# access the fourth-to-the-last element"
   ]
  },
  {
   "cell_type": "markdown",
   "id": "0b5ceb0c",
   "metadata": {},
   "source": [
    "### NUMPY ARRAY SLICING\n",
    "\n",
    "Similar to lists, you can also get a subset of array elements using the slicing operator. \n",
    "\n",
    "**```arr[start:stop:step]```**\n",
    "- start is the index where python starts getting the subset by default the index is 0.\n",
    "- stop is the end, however, the last element is stop – 1. By default, the last element is the stop index.\n",
    "- step, is an optional argument, it dictates how many steps it will take before collecting the element in array. By default step is 1."
   ]
  },
  {
   "cell_type": "code",
   "execution_count": null,
   "id": "9d710f23",
   "metadata": {},
   "outputs": [],
   "source": [
    "np.array([1, 3, 5, 7, 9, 11, 13, 15, 17, 19, 21, 23, 25, 27])\n",
    "# get the subset of [5, 7, 9, 11]\n",
    "# get the subset of [9, 15, 21, 27]\n",
    "# get the subset of [13, 17]"
   ]
  },
  {
   "cell_type": "markdown",
   "id": "c24911ab",
   "metadata": {},
   "source": [
    "You can also get the subset of the array using Negative Indexing."
   ]
  },
  {
   "cell_type": "code",
   "execution_count": null,
   "id": "bfcc14ce",
   "metadata": {},
   "outputs": [],
   "source": [
    "np.array([1, 3, 5, 7, 9, 11, 13, 15, 17, 19, 21, 23, 25, 27])\n",
    "# get the subset of [23, 25, 27]\n",
    "# get the subset of [9, 13, 17, 21]\n",
    "# get the subset of [27, 17, 7]"
   ]
  },
  {
   "cell_type": "markdown",
   "id": "d4ae3da1",
   "metadata": {},
   "source": [
    "### NUMPY ARRAY RESHAPING\n",
    "\n",
    "A 1D array can be reshaped into an N-D array by calling **```np.reshape(array, newshape, order = ‘C’)```**."
   ]
  },
  {
   "cell_type": "code",
   "execution_count": null,
   "id": "ca88e781",
   "metadata": {},
   "outputs": [],
   "source": [
    "np.array([2, 4, 6, 8, 9, 10, 11, 12])\n",
    "\n",
    "# reshaped the array into a 2D array with 2 rows and 4 columns"
   ]
  },
  {
   "cell_type": "markdown",
   "id": "31012619",
   "metadata": {},
   "source": [
    "### NUMPY COMPARISON/LOGICAL OPERATORS\n",
    "\n",
    "In performing this task, NumPy will perform element wise operation."
   ]
  },
  {
   "cell_type": "code",
   "execution_count": null,
   "id": "a9502876",
   "metadata": {},
   "outputs": [],
   "source": [
    "np.array([1, 2, 3])\n",
    "np.array([3, 2, 1])\n",
    "\n",
    "# perform the lesser than comparison using the less() function\n",
    "# perform the greater than comparison using the greater() function\n",
    "# perform the not equal comparison using the not_equal() function"
   ]
  },
  {
   "cell_type": "markdown",
   "id": "55872e9d",
   "metadata": {},
   "source": [
    "For logical operators, NumPy can store array elements of Boolean type."
   ]
  },
  {
   "cell_type": "code",
   "execution_count": null,
   "id": "6141a09a",
   "metadata": {},
   "outputs": [],
   "source": [
    "np.array([True, False, True])\n",
    "np.array([False, False, True])\n",
    "\n",
    "# perform the AND operator using logical_and() function"
   ]
  },
  {
   "cell_type": "markdown",
   "id": "2ee4c4b7",
   "metadata": {},
   "source": [
    "### NUMPY MATH FUNCTIONS\n",
    "\n",
    "NumPy Math Functions are divided into three categories:\n",
    "- Arithmetic Functions\n",
    "- Trigonometric Functions\n",
    "- Rounding Functions"
   ]
  },
  {
   "cell_type": "markdown",
   "id": "19593b85",
   "metadata": {},
   "source": [
    "Let’s perform Arithmetic Functions on a 1D array:"
   ]
  },
  {
   "cell_type": "code",
   "execution_count": null,
   "id": "1b65ee0e",
   "metadata": {},
   "outputs": [],
   "source": [
    "np.array([1, 3, 5, 7, 9, 11])\n",
    "np.array([2, 4, 6, 8, 10, 12])\n",
    "\n",
    "# get the sum of two arrays using the + operator and add() function\n",
    "#get the product of two arrays using the * operator and product() function"
   ]
  },
  {
   "cell_type": "markdown",
   "id": "1d5062fa",
   "metadata": {},
   "source": [
    "Trigonometric Functions on a 1D array:"
   ]
  },
  {
   "cell_type": "code",
   "execution_count": null,
   "id": "2de1cf1c",
   "metadata": {},
   "outputs": [],
   "source": [
    "# array of angles in radians\n",
    "np.array([0, 1, 2])\n",
    "# compute the cosine of the angles\n",
    "# compute the inverse tangent of the angles"
   ]
  },
  {
   "cell_type": "code",
   "execution_count": null,
   "id": "b4e29bb5",
   "metadata": {},
   "outputs": [],
   "source": [
    "# angle in radians\n",
    "angle = 1.57079633 \n",
    "# convert the angle to degrees\n",
    "# convert the angle back to radians"
   ]
  },
  {
   "cell_type": "markdown",
   "id": "26f70c05",
   "metadata": {},
   "source": [
    "Rounding Functions"
   ]
  },
  {
   "cell_type": "code",
   "execution_count": null,
   "id": "2804fae2",
   "metadata": {},
   "outputs": [],
   "source": [
    "np.array([1.23456, 2.34567, 3.45678, 4.56789])\n",
    "# call the floor() function and observe its output\n",
    "# call the ceil() function and observe its output"
   ]
  },
  {
   "cell_type": "markdown",
   "id": "5ae608a8",
   "metadata": {},
   "source": [
    "### NUMPY STATISTICAL FUNCTIONS"
   ]
  },
  {
   "cell_type": "code",
   "execution_count": null,
   "id": "2e5f15d6",
   "metadata": {},
   "outputs": [],
   "source": [
    "np.array([76, 78, 81, 66, 85])\n",
    "\n",
    "# compute the mean of the marks\n",
    "# compute the median of marks\n",
    "# find the maximum and minimum marks"
   ]
  },
  {
   "cell_type": "markdown",
   "id": "e1803326",
   "metadata": {},
   "source": [
    "Now, that you are more familiar with using the different NumPy operations on a 1D array. Let’s try to make it more challenging by applying the different NumPy operations on an N-D dimensional array."
   ]
  },
  {
   "cell_type": "markdown",
   "id": "e1956ea4",
   "metadata": {},
   "source": [
    "### N-D ARRAY FROM LIST OF LISTS"
   ]
  },
  {
   "cell_type": "code",
   "execution_count": null,
   "id": "e49884b8",
   "metadata": {},
   "outputs": [],
   "source": [
    "np.array([[1, 2, 3, 4, 5], \n",
    "          [6, 7, 8, 9, 10]])\n",
    "#print the array including its dimension and shape"
   ]
  },
  {
   "cell_type": "code",
   "execution_count": null,
   "id": "6f559006",
   "metadata": {},
   "outputs": [],
   "source": [
    "np.array([[[1, 2, 3, 4], \n",
    "           [5, 6, 7, 8], \n",
    "           [9, 10, 11, 12]], \n",
    "          \n",
    "          [[13, 14, 15, 16], \n",
    "           [17, 18, 19, 20], \n",
    "           [21, 22, 23, 24]]])\n",
    "#print the array including its dimension and shape"
   ]
  },
  {
   "cell_type": "markdown",
   "id": "32b96c55",
   "metadata": {},
   "source": [
    "### Using np.zeros()"
   ]
  },
  {
   "cell_type": "code",
   "execution_count": null,
   "id": "a48d92f2",
   "metadata": {},
   "outputs": [],
   "source": [
    "# create a 2D array with 2 rows and 3 columns filled with zeros"
   ]
  },
  {
   "cell_type": "code",
   "execution_count": null,
   "id": "8ff4193f",
   "metadata": {},
   "outputs": [],
   "source": [
    "# create a 3D array with dimensions 2x3x4 filled with zeros"
   ]
  },
  {
   "cell_type": "markdown",
   "id": "71cc8c8b",
   "metadata": {},
   "source": [
    "### Using np.full()\n",
    "\n",
    "This function is used when you want to create an N-D array with a specific value."
   ]
  },
  {
   "cell_type": "code",
   "execution_count": null,
   "id": "81387392",
   "metadata": {},
   "outputs": [],
   "source": [
    "# create a 2D array with elements initialized to 5\n",
    "np.full((2, 2), 5) \n",
    "\n",
    "# print the array"
   ]
  },
  {
   "cell_type": "markdown",
   "id": "56011c0f",
   "metadata": {},
   "source": [
    "### Using np.random.rand()"
   ]
  },
  {
   "cell_type": "code",
   "execution_count": null,
   "id": "4d96b294",
   "metadata": {},
   "outputs": [],
   "source": [
    "# create a 2D array of 3 rows and 3 columns of random numbers"
   ]
  },
  {
   "cell_type": "code",
   "execution_count": null,
   "id": "6ea1ca6a",
   "metadata": {},
   "outputs": [],
   "source": [
    "# create a 3D array of shape (3, 3, 3) of random numbers"
   ]
  },
  {
   "cell_type": "markdown",
   "id": "82b5689f",
   "metadata": {},
   "source": [
    "### Using np.empty()"
   ]
  },
  {
   "cell_type": "code",
   "execution_count": null,
   "id": "efde6110",
   "metadata": {},
   "outputs": [],
   "source": [
    "# create an empty 2D array with 2 rows and 2 columns"
   ]
  },
  {
   "cell_type": "code",
   "execution_count": null,
   "id": "cf8fee6f",
   "metadata": {},
   "outputs": [],
   "source": [
    "# create an empty 3D array of shape (2, 2, 2)"
   ]
  },
  {
   "cell_type": "markdown",
   "id": "bf0372b6",
   "metadata": {},
   "source": [
    "### NUMPY ARRAY INDEXING ON N-D ARRAYS"
   ]
  },
  {
   "cell_type": "markdown",
   "id": "f1aa310b",
   "metadata": {},
   "source": [
    "In 2D NumPy Array, to access a specific element, you need to remember to use the square bracket notation and its syntax **```arr[row, column]```**."
   ]
  },
  {
   "cell_type": "code",
   "execution_count": null,
   "id": "a1bc643e",
   "metadata": {},
   "outputs": [],
   "source": [
    "np.array([[1, 3, 5, 7], \n",
    "          [2, 4, 6, 8], \n",
    "          [9, 11, 13, 15]])\n",
    "\n",
    "# access the element at the third row and second column\n",
    "# access the element at the second row and third column\n",
    "# print the last row\n",
    "# print the last column"
   ]
  },
  {
   "cell_type": "markdown",
   "id": "f50b8ce1",
   "metadata": {},
   "source": [
    "For 3D arrays, to access an element **```arr[slice, row, column]```**."
   ]
  },
  {
   "cell_type": "code",
   "execution_count": null,
   "id": "99da68e4",
   "metadata": {},
   "outputs": [],
   "source": [
    "np.array([[[1, 2, 3, 4], \n",
    "           [5, 6, 7, 8], \n",
    "           [9, 10, 11, 12]], \n",
    "          \n",
    "          [[13, 14, 15, 16], \n",
    "           [17, 18, 19, 20], \n",
    "           [21, 22, 23, 24]]])\n",
    "\n",
    "# print this element arr[1, 2, 1]"
   ]
  },
  {
   "cell_type": "markdown",
   "id": "1149c39a",
   "metadata": {},
   "source": [
    "### NUMPY 2-D ARRAY SLICING\n",
    "\n",
    "**```arr[row_start:row_stop:row_step, col_start:col_stop:col_step]```**\n",
    "\n",
    "To get the subset of rows, let’s have a breakdown of the different indexes for the row. **```row_start```** is the starting index, indicating which row to start from to get the subset; by default its index is 0. **```row_stop```**, signifies the last row to get the subset (**```row_stop```**-1), and by default the last row of the entire array is the **```row_stop```** index. Lastly, **```row_step```** is an optional index that counts how many steps to take and its default value is 1.\n",
    "\n",
    "To get the subset of columns, the idea of how slicing works in rows is also similar to columns."
   ]
  },
  {
   "cell_type": "code",
   "execution_count": null,
   "id": "79d33fb5",
   "metadata": {},
   "outputs": [],
   "source": [
    "np.array([[1, 3, 5, 7], \n",
    "          [2, 4, 6, 8], \n",
    "          [9, 11, 13, 15]])\n",
    "\n",
    "# slice the array to get the first two rows and columns\n",
    "# slice the array to get the last two rows and columns\n",
    "# output the second row of the array [2, 4, 6, 8]\n",
    "# output the fourth column of the array [7, 8, 15]"
   ]
  },
  {
   "cell_type": "markdown",
   "id": "599bcf54",
   "metadata": {},
   "source": [
    "### NUMPY ARRAY RESHAPING\n",
    "\n",
    "Just as NumPy allows 1-D arrays to transform into an N-D array, you can also flatten an N-D array to a 1-D array."
   ]
  },
  {
   "cell_type": "code",
   "execution_count": null,
   "id": "e4e3b05e",
   "metadata": {},
   "outputs": [],
   "source": [
    "# flatten a 2D array to 1D\n",
    "np.array([[1, 3], \n",
    "          [6, 8], \n",
    "          [11, 13]]) \n",
    "\n",
    "# np.reshape(arr, -1)"
   ]
  },
  {
   "cell_type": "code",
   "execution_count": null,
   "id": "52f436c9",
   "metadata": {},
   "outputs": [],
   "source": [
    "# flatten a 3D array to 1D\n",
    "np.array([[[1, 2], \n",
    "           [6, 8], \n",
    "           [9,12]], \n",
    "          \n",
    "          [[13, 14], \n",
    "           [17, 20], \n",
    "           [21, 24]]])\n",
    "\n",
    "# np.reshape(arr, -1)"
   ]
  },
  {
   "cell_type": "markdown",
   "id": "d64b3044",
   "metadata": {},
   "source": [
    "### NUMPY ARRAY TRANSPOSE\n",
    "\n",
    "One of the operations in matrices is transpose and NumPy offers that function by calling **```np.transpose()```**."
   ]
  },
  {
   "cell_type": "code",
   "execution_count": null,
   "id": "09b7a412",
   "metadata": {},
   "outputs": [],
   "source": [
    "np.array([[1, 3, 5], \n",
    "          [2, 4, 8]])\n",
    "\n",
    "# transpose the 2D array"
   ]
  },
  {
   "cell_type": "markdown",
   "id": "8da42143",
   "metadata": {},
   "source": [
    "### NUMPY MATH FUNCTIONS\n",
    "\n",
    "In working with math operations on 2D arrays, one of the arguments to be passed is the array and its axis. Take note that axis is the valid syntax for passing the second argument in a function. For example:"
   ]
  },
  {
   "cell_type": "code",
   "execution_count": null,
   "id": "1bdd03e6",
   "metadata": {},
   "outputs": [],
   "source": [
    "np.array([[2, 4, 6], \n",
    "          [8, 10, 12], \n",
    "          [14, 16, 18]])\n",
    "\n",
    "# computes the median along the horizontal axis\n",
    "np.median(arr, axis = 0) "
   ]
  },
  {
   "cell_type": "markdown",
   "id": "d25bae08",
   "metadata": {},
   "source": [
    "**```np.median(arr, axis = 0)```**\n",
    "\n",
    "In a 2D array, **```axis = 0```** refers to the rows, therefore, it will compute the median for each column separately. This results in an array where each element represents the median of values across the rows for the corresponding column. "
   ]
  },
  {
   "cell_type": "code",
   "execution_count": null,
   "id": "e730d097",
   "metadata": {},
   "outputs": [],
   "source": [
    "np.array([[2, 4, 6], \n",
    "          [8, 10, 12], \n",
    "          [14, 16, 18]])\n",
    "\n",
    "# computes the median along the vertical axis\n",
    "np.median(arr, axis = 1)"
   ]
  },
  {
   "cell_type": "markdown",
   "id": "bd106947",
   "metadata": {},
   "source": [
    "# NUMPY EXERCISE WITH CSV FILE\n",
    "\n",
    "In this section, you will do some basic NumPy operations in a CSV file."
   ]
  },
  {
   "cell_type": "markdown",
   "id": "7f4443f4",
   "metadata": {},
   "source": [
    "### IMPORT THE NUMPY LIBRARY"
   ]
  },
  {
   "cell_type": "code",
   "execution_count": null,
   "id": "355e4835",
   "metadata": {},
   "outputs": [],
   "source": [
    "# write your code"
   ]
  },
  {
   "cell_type": "markdown",
   "id": "3d1e2c64",
   "metadata": {},
   "source": [
    "### READ THE CSV FILE\n",
    "\n",
    "Try importing the CSV file **```air-quality-data.csv```**. This file contains 13 columns. Here are the details of the column:\n",
    "- Datetime\n",
    "- PM2.5\n",
    "- PM10\n",
    "- NO2\n",
    "- NH3\n",
    "- SO2\n",
    "- CO\n",
    "- O3\n",
    "- NOx\n",
    "- NO\n",
    "- Benzene\n",
    "- Toluene\n",
    "- Xylene\n",
    "\n",
    "All the columns except for Datetime, are of data type float. This dataset is used to check the quality of the air in a certain place using different factors. Let’s try working with the dataset and perform various NumPy operations."
   ]
  },
  {
   "cell_type": "markdown",
   "id": "b91ed373",
   "metadata": {},
   "source": [
    "To read the file we will be using the **```np.genfromtxt()```** function."
   ]
  },
  {
   "cell_type": "code",
   "execution_count": null,
   "id": "0fde06d4",
   "metadata": {},
   "outputs": [],
   "source": [
    "# complete the code\n",
    "path = 'write down the file path'\n",
    "np.genfromtxt(path, delimiter=',', skip_header=True, usecols=range(1, 13))"
   ]
  },
  {
   "cell_type": "markdown",
   "id": "25c61f6d",
   "metadata": {},
   "source": [
    "Explanation: **```path```** variable contains the file directory of the csv file. We also called the **```skip_header```** variable and set it to **```True```** since these data are not needed for the NumPy operations. Additonally, the **```usecols```** parameter excludes the Datatime column from the array."
   ]
  },
  {
   "cell_type": "markdown",
   "id": "9e1483d1",
   "metadata": {},
   "source": [
    "### OUTPUT THE LOADED DATA"
   ]
  },
  {
   "cell_type": "code",
   "execution_count": null,
   "id": "7cff4194",
   "metadata": {},
   "outputs": [],
   "source": [
    "# print the loaded data"
   ]
  },
  {
   "cell_type": "code",
   "execution_count": null,
   "id": "6e61d04d",
   "metadata": {},
   "outputs": [],
   "source": [
    "# print data dimension"
   ]
  },
  {
   "cell_type": "code",
   "execution_count": null,
   "id": "7e38b098",
   "metadata": {},
   "outputs": [],
   "source": [
    "# print data shape"
   ]
  },
  {
   "cell_type": "code",
   "execution_count": null,
   "id": "2fa4b691",
   "metadata": {},
   "outputs": [],
   "source": [
    "# print array data type"
   ]
  },
  {
   "cell_type": "markdown",
   "id": "07de8185",
   "metadata": {},
   "source": [
    "### PERFORMING STATISTICAL OPERATIONS IN DATA"
   ]
  },
  {
   "cell_type": "code",
   "execution_count": null,
   "id": "de1f600d",
   "metadata": {},
   "outputs": [],
   "source": [
    "# compute the mean and median for each data column\n",
    "# print the results"
   ]
  },
  {
   "cell_type": "code",
   "execution_count": null,
   "id": "c6e481c8",
   "metadata": {},
   "outputs": [],
   "source": [
    "# find the maximum and minimum values for each data column\n",
    "# print results"
   ]
  },
  {
   "cell_type": "code",
   "execution_count": null,
   "id": "77eaf6ea",
   "metadata": {},
   "outputs": [],
   "source": [
    "# compute the standard deviation in the seventh column of the array\n",
    "# print results"
   ]
  },
  {
   "cell_type": "code",
   "execution_count": null,
   "id": "187f49d3",
   "metadata": {},
   "outputs": [],
   "source": [
    "# only compute the standard deviation of the first 50 elements in the seventh column of the array\n",
    "# print results"
   ]
  },
  {
   "cell_type": "markdown",
   "id": "212b426f",
   "metadata": {},
   "source": [
    "### DATA SLICING AND FILTERING"
   ]
  },
  {
   "cell_type": "code",
   "execution_count": null,
   "id": "2cb16449",
   "metadata": {},
   "outputs": [],
   "source": [
    "# output data values greather than 28 in the third column of the array\n",
    "# the printed output should be a numerical value"
   ]
  },
  {
   "cell_type": "code",
   "execution_count": null,
   "id": "4f9a1001",
   "metadata": {},
   "outputs": [],
   "source": [
    "# output the first five row and column elements"
   ]
  },
  {
   "cell_type": "code",
   "execution_count": null,
   "id": "436dff6c",
   "metadata": {},
   "outputs": [],
   "source": [
    "# output the first 20 row elements and all data columns with step 4"
   ]
  },
  {
   "cell_type": "code",
   "execution_count": null,
   "id": "8610b18f",
   "metadata": {},
   "outputs": [],
   "source": [
    "# get the last row\n",
    "# reshape the array to a 2D array with a shape of (4, 3)"
   ]
  },
  {
   "cell_type": "code",
   "execution_count": null,
   "id": "e91f7fde",
   "metadata": {},
   "outputs": [],
   "source": [
    "# get the tenth-to-the-last row\n",
    "# reshape the array to a 2D array with a shape of (2, 6)\n",
    "# then transpose the array"
   ]
  },
  {
   "cell_type": "markdown",
   "id": "bf8aab97",
   "metadata": {},
   "source": [
    "### DATA PLOTTING (OPTIONAL)\n",
    "\n",
    "Try plotting the data using the **matplotlib** library."
   ]
  },
  {
   "cell_type": "markdown",
   "id": "1c09746b",
   "metadata": {},
   "source": [
    "#### Import the library\n",
    "\n",
    "Make sure that you have installed the library before importing it. Similar to numpy, we denoted the library as **```plt```** for readability and easier to call the functions. "
   ]
  },
  {
   "cell_type": "code",
   "execution_count": null,
   "id": "ad6b2ee8",
   "metadata": {},
   "outputs": [],
   "source": [
    "import matplotlib.pyplot as plt "
   ]
  },
  {
   "cell_type": "markdown",
   "id": "e57f5fb7",
   "metadata": {},
   "source": [
    "#### Plot the Data\n",
    "\n",
    "Here’s a simple implementation on how to plot a numpy data using matplotlib."
   ]
  },
  {
   "cell_type": "code",
   "execution_count": null,
   "id": "8f32b2f2",
   "metadata": {},
   "outputs": [],
   "source": [
    "# plot the first column of the array\n",
    "pm25_column = data[::, 1]\n",
    "\n",
    "plt.plot(pm25_column)\n",
    "plt.xlabel('Index')\n",
    "plt.ylabel('Values')\n",
    "plt.title('PM2.5 Variation')\n",
    "plt.show()"
   ]
  },
  {
   "cell_type": "markdown",
   "id": "ab89e7cf",
   "metadata": {},
   "source": [
    "Try plotting different columns or subsets of data using the **```matplolib.pyplot```** library."
   ]
  },
  {
   "cell_type": "code",
   "execution_count": null,
   "id": "39d538df",
   "metadata": {},
   "outputs": [],
   "source": [
    "# plot the eight column of the array"
   ]
  },
  {
   "cell_type": "code",
   "execution_count": null,
   "id": "fbc6345f",
   "metadata": {},
   "outputs": [],
   "source": [
    "# only plot the first 50 elements in the eight column of the array"
   ]
  },
  {
   "cell_type": "code",
   "execution_count": null,
   "id": "0757401f",
   "metadata": {},
   "outputs": [],
   "source": [
    "# plot the second and third column elements of the array\n",
    "# make sure that the two elements do not have the same color"
   ]
  },
  {
   "cell_type": "code",
   "execution_count": null,
   "id": "3949031e",
   "metadata": {},
   "outputs": [],
   "source": [
    "# only plot the first 10 elements in the second and third column of the array\n",
    "# make sure that the two elements do not have the same color"
   ]
  }
 ],
 "metadata": {
  "kernelspec": {
   "display_name": "Python 3 (ipykernel)",
   "language": "python",
   "name": "python3"
  },
  "language_info": {
   "codemirror_mode": {
    "name": "ipython",
    "version": 3
   },
   "file_extension": ".py",
   "mimetype": "text/x-python",
   "name": "python",
   "nbconvert_exporter": "python",
   "pygments_lexer": "ipython3",
   "version": "3.10.5"
  }
 },
 "nbformat": 4,
 "nbformat_minor": 5
}
